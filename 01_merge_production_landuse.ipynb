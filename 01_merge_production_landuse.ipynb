{
 "cells": [
  {
   "attachments": {},
   "cell_type": "markdown",
   "metadata": {},
   "source": [
    "In this script, the landuse area (i.e. exact polygon) is added to the mines included in the production dataset. "
   ]
  },
  {
   "cell_type": "code",
   "execution_count": 87,
   "metadata": {},
   "outputs": [],
   "source": [
    "import pandas as pd\n",
    "import geopandas as gpd\n",
    "import numpy as np\n",
    "import folium"
   ]
  },
  {
   "attachments": {},
   "cell_type": "markdown",
   "metadata": {},
   "source": [
    "## Read Data"
   ]
  },
  {
   "cell_type": "code",
   "execution_count": 88,
   "metadata": {},
   "outputs": [],
   "source": [
    "facilities = gpd.read_file(\"data/production/facilities.gpkg\")\n",
    "polygons = gpd.read_file(\"data/polygons/polygons.gpkg\")"
   ]
  },
  {
   "attachments": {},
   "cell_type": "markdown",
   "metadata": {},
   "source": [
    "## Preprocessing of facilities"
   ]
  },
  {
   "cell_type": "code",
   "execution_count": 89,
   "metadata": {},
   "outputs": [
    {
     "name": "stdout",
     "output_type": "stream",
     "text": [
      "(2413, 24)\n",
      "(1435, 24)\n",
      "(1323, 24)\n",
      "(1093, 24)\n"
     ]
    }
   ],
   "source": [
    "print(facilities.shape)\n",
    "\n",
    "# only keep facilities, not sub-sites\n",
    "facilities = facilities[facilities[\"sub_site_name\"].isnull()]\n",
    "print(facilities.shape)\n",
    "\n",
    "# only keep facilities that have non-empty geometry\n",
    "facilities = facilities[~facilities.is_empty]\n",
    "print(facilities.shape)\n",
    "\n",
    "# only keep mines, not smelters or refineries as this knowledge graph is about mines\n",
    "facilities = facilities[facilities[\"facility_type\"].str.contains(\"Mine\")]\n",
    "print(facilities.shape)"
   ]
  },
  {
   "attachments": {},
   "cell_type": "markdown",
   "metadata": {},
   "source": [
    "## View the data"
   ]
  },
  {
   "cell_type": "code",
   "execution_count": 90,
   "metadata": {},
   "outputs": [],
   "source": [
    "# display(facilities)\n",
    "# display(polygons)\n",
    "# facilities.explore()\n",
    "# polygons.explore()"
   ]
  },
  {
   "attachments": {},
   "cell_type": "markdown",
   "metadata": {},
   "source": [
    "### TEST: what happens if we intersect a multipoint with polygons? "
   ]
  },
  {
   "cell_type": "code",
   "execution_count": 91,
   "metadata": {},
   "outputs": [
    {
     "data": {
      "text/html": [
       "<div>\n",
       "<style scoped>\n",
       "    .dataframe tbody tr th:only-of-type {\n",
       "        vertical-align: middle;\n",
       "    }\n",
       "\n",
       "    .dataframe tbody tr th {\n",
       "        vertical-align: top;\n",
       "    }\n",
       "\n",
       "    .dataframe thead th {\n",
       "        text-align: right;\n",
       "    }\n",
       "</style>\n",
       "<table border=\"1\" class=\"dataframe\">\n",
       "  <thead>\n",
       "    <tr style=\"text-align: right;\">\n",
       "      <th></th>\n",
       "      <th>facility_id</th>\n",
       "      <th>facility_name</th>\n",
       "      <th>facility_other_names</th>\n",
       "      <th>sub_site_name</th>\n",
       "      <th>sub_site_other_names</th>\n",
       "      <th>facility_type</th>\n",
       "      <th>primary_commodity</th>\n",
       "      <th>commodities_products</th>\n",
       "      <th>facility_equipment</th>\n",
       "      <th>production_start</th>\n",
       "      <th>...</th>\n",
       "      <th>concession_area_sq_km</th>\n",
       "      <th>country</th>\n",
       "      <th>GID_0</th>\n",
       "      <th>GID_1</th>\n",
       "      <th>GID_2</th>\n",
       "      <th>GID_3</th>\n",
       "      <th>GID_4</th>\n",
       "      <th>source_id</th>\n",
       "      <th>comment</th>\n",
       "      <th>geometry</th>\n",
       "    </tr>\n",
       "  </thead>\n",
       "  <tbody>\n",
       "    <tr>\n",
       "      <th>6</th>\n",
       "      <td>COM00007.00</td>\n",
       "      <td>AGA Mineracao</td>\n",
       "      <td>None</td>\n",
       "      <td>None</td>\n",
       "      <td>None</td>\n",
       "      <td>Mine</td>\n",
       "      <td>Gold</td>\n",
       "      <td>Gold</td>\n",
       "      <td>Underground, Open pit, Heap leaching plant</td>\n",
       "      <td>NaN</td>\n",
       "      <td>...</td>\n",
       "      <td>NaN</td>\n",
       "      <td>Brazil</td>\n",
       "      <td>BRA</td>\n",
       "      <td>BRA.13_1</td>\n",
       "      <td>BRA.13.662_1 ; BRA.13.672_1</td>\n",
       "      <td>BRA.13.662.2_1 ; BRA.13.662.4_1 ; BRA.13.672.1...</td>\n",
       "      <td>None</td>\n",
       "      <td>det_1057</td>\n",
       "      <td>None</td>\n",
       "      <td>MULTIPOINT (-43.73907 -19.86773, -43.76980 -19...</td>\n",
       "    </tr>\n",
       "  </tbody>\n",
       "</table>\n",
       "<p>1 rows × 24 columns</p>\n",
       "</div>"
      ],
      "text/plain": [
       "   facility_id  facility_name facility_other_names sub_site_name  \\\n",
       "6  COM00007.00  AGA Mineracao                 None          None   \n",
       "\n",
       "  sub_site_other_names facility_type primary_commodity commodities_products  \\\n",
       "6                 None          Mine              Gold                 Gold   \n",
       "\n",
       "                           facility_equipment  production_start  ...  \\\n",
       "6  Underground, Open pit, Heap leaching plant               NaN  ...   \n",
       "\n",
       "   concession_area_sq_km country  GID_0     GID_1  \\\n",
       "6                    NaN  Brazil    BRA  BRA.13_1   \n",
       "\n",
       "                         GID_2  \\\n",
       "6  BRA.13.662_1 ; BRA.13.672_1   \n",
       "\n",
       "                                               GID_3 GID_4 source_id comment  \\\n",
       "6  BRA.13.662.2_1 ; BRA.13.662.4_1 ; BRA.13.672.1...  None  det_1057    None   \n",
       "\n",
       "                                            geometry  \n",
       "6  MULTIPOINT (-43.73907 -19.86773, -43.76980 -19...  \n",
       "\n",
       "[1 rows x 24 columns]"
      ]
     },
     "metadata": {},
     "output_type": "display_data"
    },
    {
     "data": {
      "text/html": [
       "<div>\n",
       "<style scoped>\n",
       "    .dataframe tbody tr th:only-of-type {\n",
       "        vertical-align: middle;\n",
       "    }\n",
       "\n",
       "    .dataframe tbody tr th {\n",
       "        vertical-align: top;\n",
       "    }\n",
       "\n",
       "    .dataframe thead th {\n",
       "        text-align: right;\n",
       "    }\n",
       "</style>\n",
       "<table border=\"1\" class=\"dataframe\">\n",
       "  <thead>\n",
       "    <tr style=\"text-align: right;\">\n",
       "      <th></th>\n",
       "      <th>facility_id</th>\n",
       "      <th>facility_name</th>\n",
       "      <th>facility_other_names</th>\n",
       "      <th>sub_site_name</th>\n",
       "      <th>sub_site_other_names</th>\n",
       "      <th>facility_type</th>\n",
       "      <th>primary_commodity</th>\n",
       "      <th>commodities_products</th>\n",
       "      <th>facility_equipment</th>\n",
       "      <th>production_start</th>\n",
       "      <th>...</th>\n",
       "      <th>GID_2</th>\n",
       "      <th>GID_3</th>\n",
       "      <th>GID_4</th>\n",
       "      <th>source_id</th>\n",
       "      <th>comment</th>\n",
       "      <th>geometry</th>\n",
       "      <th>index_right</th>\n",
       "      <th>ISO3_CODE</th>\n",
       "      <th>COUNTRY_NAME</th>\n",
       "      <th>AREA</th>\n",
       "    </tr>\n",
       "  </thead>\n",
       "  <tbody>\n",
       "    <tr>\n",
       "      <th>6</th>\n",
       "      <td>COM00007.00</td>\n",
       "      <td>AGA Mineracao</td>\n",
       "      <td>None</td>\n",
       "      <td>None</td>\n",
       "      <td>None</td>\n",
       "      <td>Mine</td>\n",
       "      <td>Gold</td>\n",
       "      <td>Gold</td>\n",
       "      <td>Underground, Open pit, Heap leaching plant</td>\n",
       "      <td>NaN</td>\n",
       "      <td>...</td>\n",
       "      <td>BRA.13.662_1 ; BRA.13.672_1</td>\n",
       "      <td>BRA.13.662.2_1 ; BRA.13.662.4_1 ; BRA.13.672.1...</td>\n",
       "      <td>None</td>\n",
       "      <td>det_1057</td>\n",
       "      <td>None</td>\n",
       "      <td>MULTIPOINT (-43.73907 -19.86773, -43.76980 -19...</td>\n",
       "      <td>3230</td>\n",
       "      <td>BRA</td>\n",
       "      <td>Brazil</td>\n",
       "      <td>0.246638</td>\n",
       "    </tr>\n",
       "    <tr>\n",
       "      <th>6</th>\n",
       "      <td>COM00007.00</td>\n",
       "      <td>AGA Mineracao</td>\n",
       "      <td>None</td>\n",
       "      <td>None</td>\n",
       "      <td>None</td>\n",
       "      <td>Mine</td>\n",
       "      <td>Gold</td>\n",
       "      <td>Gold</td>\n",
       "      <td>Underground, Open pit, Heap leaching plant</td>\n",
       "      <td>NaN</td>\n",
       "      <td>...</td>\n",
       "      <td>BRA.13.662_1 ; BRA.13.672_1</td>\n",
       "      <td>BRA.13.662.2_1 ; BRA.13.662.4_1 ; BRA.13.672.1...</td>\n",
       "      <td>None</td>\n",
       "      <td>det_1057</td>\n",
       "      <td>None</td>\n",
       "      <td>MULTIPOINT (-43.73907 -19.86773, -43.76980 -19...</td>\n",
       "      <td>3263</td>\n",
       "      <td>BRA</td>\n",
       "      <td>Brazil</td>\n",
       "      <td>0.172577</td>\n",
       "    </tr>\n",
       "    <tr>\n",
       "      <th>6</th>\n",
       "      <td>COM00007.00</td>\n",
       "      <td>AGA Mineracao</td>\n",
       "      <td>None</td>\n",
       "      <td>None</td>\n",
       "      <td>None</td>\n",
       "      <td>Mine</td>\n",
       "      <td>Gold</td>\n",
       "      <td>Gold</td>\n",
       "      <td>Underground, Open pit, Heap leaching plant</td>\n",
       "      <td>NaN</td>\n",
       "      <td>...</td>\n",
       "      <td>BRA.13.662_1 ; BRA.13.672_1</td>\n",
       "      <td>BRA.13.662.2_1 ; BRA.13.662.4_1 ; BRA.13.672.1...</td>\n",
       "      <td>None</td>\n",
       "      <td>det_1057</td>\n",
       "      <td>None</td>\n",
       "      <td>MULTIPOINT (-43.73907 -19.86773, -43.76980 -19...</td>\n",
       "      <td>3302</td>\n",
       "      <td>BRA</td>\n",
       "      <td>Brazil</td>\n",
       "      <td>0.830338</td>\n",
       "    </tr>\n",
       "  </tbody>\n",
       "</table>\n",
       "<p>3 rows × 28 columns</p>\n",
       "</div>"
      ],
      "text/plain": [
       "   facility_id  facility_name facility_other_names sub_site_name  \\\n",
       "6  COM00007.00  AGA Mineracao                 None          None   \n",
       "6  COM00007.00  AGA Mineracao                 None          None   \n",
       "6  COM00007.00  AGA Mineracao                 None          None   \n",
       "\n",
       "  sub_site_other_names facility_type primary_commodity commodities_products  \\\n",
       "6                 None          Mine              Gold                 Gold   \n",
       "6                 None          Mine              Gold                 Gold   \n",
       "6                 None          Mine              Gold                 Gold   \n",
       "\n",
       "                           facility_equipment  production_start  ...  \\\n",
       "6  Underground, Open pit, Heap leaching plant               NaN  ...   \n",
       "6  Underground, Open pit, Heap leaching plant               NaN  ...   \n",
       "6  Underground, Open pit, Heap leaching plant               NaN  ...   \n",
       "\n",
       "                         GID_2  \\\n",
       "6  BRA.13.662_1 ; BRA.13.672_1   \n",
       "6  BRA.13.662_1 ; BRA.13.672_1   \n",
       "6  BRA.13.662_1 ; BRA.13.672_1   \n",
       "\n",
       "                                               GID_3  GID_4  source_id  \\\n",
       "6  BRA.13.662.2_1 ; BRA.13.662.4_1 ; BRA.13.672.1...   None   det_1057   \n",
       "6  BRA.13.662.2_1 ; BRA.13.662.4_1 ; BRA.13.672.1...   None   det_1057   \n",
       "6  BRA.13.662.2_1 ; BRA.13.662.4_1 ; BRA.13.672.1...   None   det_1057   \n",
       "\n",
       "   comment                                           geometry index_right  \\\n",
       "6     None  MULTIPOINT (-43.73907 -19.86773, -43.76980 -19...        3230   \n",
       "6     None  MULTIPOINT (-43.73907 -19.86773, -43.76980 -19...        3263   \n",
       "6     None  MULTIPOINT (-43.73907 -19.86773, -43.76980 -19...        3302   \n",
       "\n",
       "  ISO3_CODE COUNTRY_NAME      AREA  \n",
       "6       BRA       Brazil  0.246638  \n",
       "6       BRA       Brazil  0.172577  \n",
       "6       BRA       Brazil  0.830338  \n",
       "\n",
       "[3 rows x 28 columns]"
      ]
     },
     "execution_count": 91,
     "metadata": {},
     "output_type": "execute_result"
    }
   ],
   "source": [
    "### TEST: what happens if we intersect a multipoint with polygons? \n",
    "test_facilities = facilities[facilities[\"facility_id\"] == \"COM00007.00\"]\n",
    "display(test_facilities)\n",
    "gpd.sjoin(test_facilities, polygons, how='inner', predicate='intersects', lsuffix='left', rsuffix='right')"
   ]
  },
  {
   "attachments": {},
   "cell_type": "markdown",
   "metadata": {},
   "source": [
    "Conclusion of the test: a spatial join of a multipoint with polygons returns all the intersections of the multipoint and the poylgons. "
   ]
  },
  {
   "attachments": {},
   "cell_type": "markdown",
   "metadata": {},
   "source": [
    "## Join the data\n",
    "We want two dataframes:\n",
    "- One containing all mines included in the production data, including the mine coordinates, and the (total of all multipoints) area of the intersecting polygon\n",
    "- Another one with just the polygons intersecting with point coordinates, that we can then add as a layer to the geopackage. \n",
    "\n",
    "For now, we match polygons that intersect with mine points only. Then, we check how many intersections we get.\n",
    "However, later we want to also test to intersect a radius around the points with the polygons. "
   ]
  },
  {
   "attachments": {},
   "cell_type": "markdown",
   "metadata": {},
   "source": [
    "### 1. Dataframe: all mines with area"
   ]
  },
  {
   "cell_type": "code",
   "execution_count": 92,
   "metadata": {},
   "outputs": [],
   "source": [
    "# produce the intersection\n",
    "df = gpd.sjoin(facilities, polygons, how='left', predicate='intersects', lsuffix='left', rsuffix='right')\n",
    "# display(df)\n",
    "\n",
    "# for the mines that are represented with multipoints, we have to add up the mining area. \n",
    "area = df.groupby(\"facility_id\", as_index = False).sum(\"AREA\").loc[:,[\"facility_id\", \"AREA\"]]\n",
    "\n",
    "facilities_merged = pd.merge(facilities, area, how = \"left\", on=\"facility_id\")\n",
    "facilities_merged[\"AREA\"].replace(0, np.nan, inplace = True)"
   ]
  },
  {
   "attachments": {},
   "cell_type": "markdown",
   "metadata": {},
   "source": [
    "### 2. Dataframe: all polygons intersecting with mines"
   ]
  },
  {
   "cell_type": "code",
   "execution_count": 93,
   "metadata": {},
   "outputs": [
    {
     "name": "stdout",
     "output_type": "stream",
     "text": [
      "(987, 4)\n",
      "(938, 4)\n"
     ]
    },
    {
     "data": {
      "text/html": [
       "<div>\n",
       "<style scoped>\n",
       "    .dataframe tbody tr th:only-of-type {\n",
       "        vertical-align: middle;\n",
       "    }\n",
       "\n",
       "    .dataframe tbody tr th {\n",
       "        vertical-align: top;\n",
       "    }\n",
       "\n",
       "    .dataframe thead th {\n",
       "        text-align: right;\n",
       "    }\n",
       "</style>\n",
       "<table border=\"1\" class=\"dataframe\">\n",
       "  <thead>\n",
       "    <tr style=\"text-align: right;\">\n",
       "      <th></th>\n",
       "      <th>ISO3_CODE</th>\n",
       "      <th>COUNTRY_NAME</th>\n",
       "      <th>AREA</th>\n",
       "      <th>geometry</th>\n",
       "    </tr>\n",
       "  </thead>\n",
       "  <tbody>\n",
       "    <tr>\n",
       "      <th>10</th>\n",
       "      <td>NZL</td>\n",
       "      <td>New Zealand</td>\n",
       "      <td>0.617854</td>\n",
       "      <td>POLYGON ((175.83980 -37.38440, 175.83920 -37.3...</td>\n",
       "    </tr>\n",
       "    <tr>\n",
       "      <th>81</th>\n",
       "      <td>NZL</td>\n",
       "      <td>New Zealand</td>\n",
       "      <td>18.070775</td>\n",
       "      <td>POLYGON ((170.44460 -45.39300, 170.45420 -45.3...</td>\n",
       "    </tr>\n",
       "    <tr>\n",
       "      <th>99</th>\n",
       "      <td>NCL</td>\n",
       "      <td>New Caledonia</td>\n",
       "      <td>17.480816</td>\n",
       "      <td>POLYGON ((166.90410 -22.31050, 166.90190 -22.3...</td>\n",
       "    </tr>\n",
       "    <tr>\n",
       "      <th>253</th>\n",
       "      <td>AUS</td>\n",
       "      <td>Australia</td>\n",
       "      <td>5.706840</td>\n",
       "      <td>POLYGON ((145.59420 -42.06830, 145.59460 -42.0...</td>\n",
       "    </tr>\n",
       "    <tr>\n",
       "      <th>258</th>\n",
       "      <td>AUS</td>\n",
       "      <td>Australia</td>\n",
       "      <td>0.052616</td>\n",
       "      <td>POLYGON ((145.55010 -41.87300, 145.55000 -41.8...</td>\n",
       "    </tr>\n",
       "    <tr>\n",
       "      <th>...</th>\n",
       "      <td>...</td>\n",
       "      <td>...</td>\n",
       "      <td>...</td>\n",
       "      <td>...</td>\n",
       "    </tr>\n",
       "    <tr>\n",
       "      <th>44531</th>\n",
       "      <td>RUS</td>\n",
       "      <td>Russian Federation</td>\n",
       "      <td>26.788483</td>\n",
       "      <td>POLYGON ((86.05950 55.66570, 86.06260 55.66570...</td>\n",
       "    </tr>\n",
       "    <tr>\n",
       "      <th>44537</th>\n",
       "      <td>CAN</td>\n",
       "      <td>Canada</td>\n",
       "      <td>60.829266</td>\n",
       "      <td>POLYGON ((-102.94683 49.13949, -102.94666 49.1...</td>\n",
       "    </tr>\n",
       "    <tr>\n",
       "      <th>44603</th>\n",
       "      <td>CHN</td>\n",
       "      <td>China</td>\n",
       "      <td>6.111370</td>\n",
       "      <td>POLYGON ((125.78161 50.13985, 125.78030 50.140...</td>\n",
       "    </tr>\n",
       "    <tr>\n",
       "      <th>44650</th>\n",
       "      <td>RUS</td>\n",
       "      <td>Russian Federation</td>\n",
       "      <td>8.497812</td>\n",
       "      <td>POLYGON ((169.56007 66.81152, 169.55612 66.809...</td>\n",
       "    </tr>\n",
       "    <tr>\n",
       "      <th>44832</th>\n",
       "      <td>KAZ</td>\n",
       "      <td>Kazakhstan</td>\n",
       "      <td>4.115073</td>\n",
       "      <td>POLYGON ((81.88788 50.59028, 81.87847 50.57787...</td>\n",
       "    </tr>\n",
       "  </tbody>\n",
       "</table>\n",
       "<p>938 rows × 4 columns</p>\n",
       "</div>"
      ],
      "text/plain": [
       "      ISO3_CODE        COUNTRY_NAME       AREA  \\\n",
       "10          NZL         New Zealand   0.617854   \n",
       "81          NZL         New Zealand  18.070775   \n",
       "99          NCL       New Caledonia  17.480816   \n",
       "253         AUS           Australia   5.706840   \n",
       "258         AUS           Australia   0.052616   \n",
       "...         ...                 ...        ...   \n",
       "44531       RUS  Russian Federation  26.788483   \n",
       "44537       CAN              Canada  60.829266   \n",
       "44603       CHN               China   6.111370   \n",
       "44650       RUS  Russian Federation   8.497812   \n",
       "44832       KAZ          Kazakhstan   4.115073   \n",
       "\n",
       "                                                geometry  \n",
       "10     POLYGON ((175.83980 -37.38440, 175.83920 -37.3...  \n",
       "81     POLYGON ((170.44460 -45.39300, 170.45420 -45.3...  \n",
       "99     POLYGON ((166.90410 -22.31050, 166.90190 -22.3...  \n",
       "253    POLYGON ((145.59420 -42.06830, 145.59460 -42.0...  \n",
       "258    POLYGON ((145.55010 -41.87300, 145.55000 -41.8...  \n",
       "...                                                  ...  \n",
       "44531  POLYGON ((86.05950 55.66570, 86.06260 55.66570...  \n",
       "44537  POLYGON ((-102.94683 49.13949, -102.94666 49.1...  \n",
       "44603  POLYGON ((125.78161 50.13985, 125.78030 50.140...  \n",
       "44650  POLYGON ((169.56007 66.81152, 169.55612 66.809...  \n",
       "44832  POLYGON ((81.88788 50.59028, 81.87847 50.57787...  \n",
       "\n",
       "[938 rows x 4 columns]"
      ]
     },
     "metadata": {},
     "output_type": "display_data"
    }
   ],
   "source": [
    "polygons_merged = gpd.sjoin(polygons, facilities, how = \"inner\", predicate=\"intersects\").iloc[:,range(4)]\n",
    "print(polygons_merged.shape)\n",
    "\n",
    "# only keep unique polygons, we dont want duplicates\n",
    "polygons_merged = polygons_merged.drop_duplicates(\"geometry\")\n",
    "\n",
    "print(polygons_merged.shape)\n",
    "display(polygons_merged)\n"
   ]
  },
  {
   "attachments": {},
   "cell_type": "markdown",
   "metadata": {},
   "source": [
    "## Visualize again to validate"
   ]
  },
  {
   "cell_type": "code",
   "execution_count": 94,
   "metadata": {},
   "outputs": [
    {
     "data": {
      "text/plain": [
       "<folium.map.LayerControl at 0x27e8f13a0d0>"
      ]
     },
     "execution_count": 94,
     "metadata": {},
     "output_type": "execute_result"
    }
   ],
   "source": [
    "m = polygons_merged.explore(\n",
    "    color = \"red\",\n",
    "    name = \"polygons\"\n",
    ")\n",
    "\n",
    "facilities_merged.explore(\n",
    "    m = m,\n",
    "    color = \"blue\", \n",
    "    marker_kwds = dict(radius=3, fill=True),\n",
    "    tooltip=\"facility_name\",\n",
    "    name = \"facilities\"\n",
    ")\n",
    "\n",
    "folium.LayerControl().add_to(m)\n",
    "\n",
    "# display the map\n",
    "# m"
   ]
  },
  {
   "attachments": {},
   "cell_type": "markdown",
   "metadata": {},
   "source": [
    "## Export files to intermediate"
   ]
  },
  {
   "cell_type": "code",
   "execution_count": 96,
   "metadata": {},
   "outputs": [],
   "source": [
    "import os\n",
    "\n",
    "# create the intermediate directory if it does not exist\n",
    "path = \"./intermediate\"\n",
    "isExist = os.path.exists(path)\n",
    "if not isExist:\n",
    "    os.makedirs(path)\n",
    "    print(\"The new directory is created!\")\n",
    "\n",
    "# write the joined dataframe to intermediate \n",
    "facilities_merged.to_file(\"intermediate/data_merged.gpkg\", layer = \"facilities\")\n",
    "polygons_merged.to_file(\"intermediate/data_merged.gpkg\", layer = \"polygons\")"
   ]
  },
  {
   "cell_type": "code",
   "execution_count": 99,
   "metadata": {},
   "outputs": [
    {
     "data": {
      "text/plain": [
       "Index(['facility_id', 'facility_name', 'facility_other_names', 'sub_site_name',\n",
       "       'sub_site_other_names', 'facility_type', 'primary_commodity',\n",
       "       'commodities_products', 'facility_equipment', 'production_start',\n",
       "       'production_end', 'activity_status', 'activity_status_year',\n",
       "       'surface_area_sq_km', 'concession_area_sq_km', 'country', 'GID_0',\n",
       "       'GID_1', 'GID_2', 'GID_3', 'GID_4', 'source_id', 'comment', 'geometry',\n",
       "       'AREA'],\n",
       "      dtype='object')"
      ]
     },
     "execution_count": 99,
     "metadata": {},
     "output_type": "execute_result"
    }
   ],
   "source": [
    "facilities_merged.columns"
   ]
  }
 ],
 "metadata": {
  "kernelspec": {
   "display_name": "geocomputing",
   "language": "python",
   "name": "python3"
  },
  "language_info": {
   "codemirror_mode": {
    "name": "ipython",
    "version": 3
   },
   "file_extension": ".py",
   "mimetype": "text/x-python",
   "name": "python",
   "nbconvert_exporter": "python",
   "pygments_lexer": "ipython3",
   "version": "3.8.16"
  },
  "orig_nbformat": 4,
  "vscode": {
   "interpreter": {
    "hash": "6749d3d34bee8781f5f86d007023a3755415b5d6e2ec6c65818c1744f808aed3"
   }
  }
 },
 "nbformat": 4,
 "nbformat_minor": 2
}
