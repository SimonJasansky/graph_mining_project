{
 "cells": [
  {
   "attachments": {},
   "cell_type": "markdown",
   "metadata": {},
   "source": [
    "### In this notebook, the KG is linked to dbpedia"
   ]
  },
  {
   "cell_type": "code",
   "execution_count": 1,
   "metadata": {},
   "outputs": [
    {
     "data": {
      "text/plain": [
       "<Graph identifier=Nb38e766d1c934816bedc7232e7f4a835 (<class 'rdflib.graph.Graph'>)>"
      ]
     },
     "execution_count": 1,
     "metadata": {},
     "output_type": "execute_result"
    }
   ],
   "source": [
    "import kglab\n",
    "import icecream\n",
    "import rdflib\n",
    "from rdflib import Namespace\n"
   ]
  },
  {
   "cell_type": "code",
   "execution_count": null,
   "metadata": {},
   "outputs": [],
   "source": [
    "# read graph\n",
    "filename = \"output/kg_before_linking.ttl\"\n",
    "g = rdflib.Graph()\n",
    "g.parse(filename, format='ttl')"
   ]
  },
  {
   "cell_type": "code",
   "execution_count": 12,
   "metadata": {},
   "outputs": [
    {
     "data": {
      "text/plain": [
       "<Graph identifier=N6a6d034e78494f009ac668c15292d20a (<class 'rdflib.graph.Graph'>)>"
      ]
     },
     "execution_count": 12,
     "metadata": {},
     "output_type": "execute_result"
    }
   ],
   "source": [
    "# read links\n",
    "filename = \"linking_triples/target_graph4\"\n",
    "links = rdflib.Graph()\n",
    "links.parse(filename, format='nt')\n",
    "# print(links.serialize(format=\"ttl\"))"
   ]
  },
  {
   "cell_type": "code",
   "execution_count": 13,
   "metadata": {},
   "outputs": [
    {
     "data": {
      "text/plain": [
       "<Graph identifier=Nb38e766d1c934816bedc7232e7f4a835 (<class 'rdflib.graph.Graph'>)>"
      ]
     },
     "execution_count": 13,
     "metadata": {},
     "output_type": "execute_result"
    }
   ],
   "source": [
    "# now add the links to the original graph\n",
    "g.parse(filename, format=\"nt\")\n"
   ]
  },
  {
   "cell_type": "code",
   "execution_count": 15,
   "metadata": {},
   "outputs": [
    {
     "name": "stdout",
     "output_type": "stream",
     "text": [
      "@prefix ns1: <https://dbpedia.org/property/> .\n",
      "@prefix ns2: <https://schema.org/> .\n",
      "@prefix ns3: <https://dbpedia.org/ontology/> .\n",
      "@prefix ns4: <https://www.w3.org/2003/01/geo/wgs84_pos#> .\n",
      "@prefix ns5: <http://www.mine-db.org/> .\n",
      "@prefix ns6: <http://example.com/> .\n",
      "@prefix owl: <http://www.w3.org/2002/07/owl#> .\n",
      "@prefix rdfs: <http://www.w3.org/2000/01/rdf-schema#> .\n",
      "@prefix xsd: <http://www.w3.org/2001/XMLSchema#> .\n",
      "\n",
      "ns6:ABW a ns3:Country,\n",
      "        ns2:Country ;\n",
      "    rdfs:label \"Aruba\" ;\n",
      "    ns3:iso6392Code \"ABW\" .\n",
      "\n",
      "ns6:AFG a ns3:Country,\n",
      "        ns2:Country ;\n",
      "    rdfs:label \"Afghanistan\" ;\n",
      "    ns3:iso6392Code \"AFG\" .\n",
      "\n",
      "ns6:AGO a ns3:Country,\n",
      "        ns2:Country ;\n",
      "    rdfs:label \"Angola\" ;\n",
      "    ns3:iso6392Code \"AGO\" .\n",
      "\n",
      "ns6:AIA a ns3:Country,\n",
      "        ns2:Country ;\n",
      "    rdfs:label \"Anguilla\" ;\n",
      "    ns3:iso6392Code \"AIA\" .\n",
      "\n",
      "ns6:ALA a ns3:Country,\n",
      "        ns2:Country ;\n",
      "    rdfs:label \"Åland Islands\" ;\n",
      "    ns3:iso6392Code \"ALA\" .\n",
      "\n",
      "ns6:ALB a ns3:Country,\n",
      "        ns2:Country ;\n",
      "    rdfs:label \"Albania\" ;\n",
      "    ns3:iso6392Code \"ALB\" .\n",
      "\n",
      "ns6:AND a ns3:Country,\n",
      "        ns2:Country ;\n",
      "    rdfs:label \"Andorra\" ;\n",
      "    ns3:iso6392Code \"AND\" .\n",
      "\n",
      "ns6:ARE a ns3:Country,\n",
      "        ns2:Country ;\n",
      "    rdfs:label \"United Arab Emirates\" ;\n",
      "    ns3:iso6392Code \"ARE\" .\n",
      "\n",
      "ns6:ARG a ns3:Country,\n",
      "        ns2:Country ;\n",
      "    rdfs:label \"Argentina\" ;\n",
      "    ns3:iso6392Code \"ARG\" .\n",
      "\n",
      "ns6:ARM a ns3:Country,\n",
      "        ns2:Country ;\n",
      "    rdfs:label \"Armenia\" ;\n",
      "    ns3:iso6392Code \"ARM\" .\n",
      "\n",
      "ns6:ASM a ns3:Country,\n",
      "        ns2:Country ;\n",
      "    rdfs:label \"American Samoa\" ;\n",
      "    ns3:iso6392Code \"ASM\" .\n",
      "\n",
      "ns6:ATA a ns3:Country,\n",
      "        ns2:Country ;\n",
      "    rdfs:label \"Antarctica\" ;\n",
      "    ns3:iso6392Code \"ATA\" .\n",
      "\n",
      "ns6:ATF a ns3:Country,\n",
      "        ns2:Country ;\n",
      "    rdfs:label \"French Southern Territories\" ;\n",
      "    ns3:iso6392Code \"ATF\" .\n",
      "\n",
      "ns6:ATG a ns3:Country,\n",
      "        ns2:Country ;\n",
      "    rdfs:label \"Antigua and Barbuda\" ;\n",
      "    ns3:iso6392Code \"ATG\" .\n",
      "\n",
      "ns6:AUS a ns3:Country,\n",
      "        ns2:Country ;\n",
      "    rdfs:label \"Australia\" ;\n",
      "    ns3:iso6392Code \"AUS\" .\n",
      "\n",
      "ns6:AUT a ns3:Country,\n",
      "        ns2:Country ;\n",
      "    rdfs:label \"Austria\" ;\n",
      "    ns3:iso6392Code \"AUT\" .\n",
      "\n",
      "ns6:AZE a ns3:Country,\n",
      "        ns2:Country ;\n",
      "    rdfs:label \"Azerbaijan\" ;\n",
      "    ns3:iso6392Code \"AZE\" .\n",
      "\n",
      "ns6:BDI a ns3:Country,\n",
      "        ns2:Country ;\n",
      "    rdfs:label \"Burundi\" ;\n",
      "    ns3:iso6392Code \"BDI\" .\n",
      "\n",
      "ns6:BEL a ns3:Country,\n",
      "        ns2:Country ;\n",
      "    rdfs:label \"Belgium\" ;\n",
      "    ns3:iso6392Code \"BEL\" .\n",
      "\n",
      "ns6:BEN a ns3:Country,\n",
      "        ns2:Country ;\n",
      "    rdfs:label \"Benin\" ;\n",
      "    ns3:iso6392Co\n"
     ]
    }
   ],
   "source": [
    "to_print = g.serialize(format = \"ttl\")[0:2500]\n",
    "print(to_print)"
   ]
  },
  {
   "cell_type": "code",
   "execution_count": null,
   "metadata": {},
   "outputs": [],
   "source": [
    "# change namespaces\n",
    "# get the current namespace manager\n",
    "ns_mgr = g.namespace_manager\n",
    "\n",
    "# register the new namespace prefix\n",
    "ns_mgr.bind(\"ns1\", \"schema\", override=True)\n",
    "ns_mgr.bind(\"ns2\", \"dbp\", override=True)\n",
    "ns_mgr.bind(\"ns3\", \"dbo\", override=True)\n",
    "ns_mgr.bind(\"ns4\", \"ex\", override=True)\n",
    "ns_mgr.bind(\"ns5\", \"geo\", override=True)"
   ]
  },
  {
   "cell_type": "code",
   "execution_count": 14,
   "metadata": {},
   "outputs": [
    {
     "data": {
      "text/plain": [
       "<Graph identifier=Nb38e766d1c934816bedc7232e7f4a835 (<class 'rdflib.graph.Graph'>)>"
      ]
     },
     "execution_count": 14,
     "metadata": {},
     "output_type": "execute_result"
    }
   ],
   "source": [
    "# save joined graph\n",
    "g.serialize(destination=\"output/kg_after_linking.ttl\", format = \"ttl\")"
   ]
  }
 ],
 "metadata": {
  "kernelspec": {
   "display_name": "base",
   "language": "python",
   "name": "python3"
  },
  "language_info": {
   "codemirror_mode": {
    "name": "ipython",
    "version": 3
   },
   "file_extension": ".py",
   "mimetype": "text/x-python",
   "name": "python",
   "nbconvert_exporter": "python",
   "pygments_lexer": "ipython3",
   "version": "3.8.15"
  },
  "orig_nbformat": 4,
  "vscode": {
   "interpreter": {
    "hash": "fc724f59a171e05a5dc82d36a6cb3a410496cec6883807e37792edd8babbea61"
   }
  }
 },
 "nbformat": 4,
 "nbformat_minor": 2
}
