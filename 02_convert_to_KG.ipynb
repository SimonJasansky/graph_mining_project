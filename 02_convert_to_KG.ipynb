{
 "cells": [
  {
   "attachments": {},
   "cell_type": "markdown",
   "metadata": {},
   "source": [
    "In this notebook, the dataset consisting of mines joined with landuse and polygons are converted to a knowledge graph"
   ]
  },
  {
   "cell_type": "code",
   "execution_count": 30,
   "metadata": {},
   "outputs": [],
   "source": [
    "import kglab\n",
    "import icecream"
   ]
  },
  {
   "cell_type": "code",
   "execution_count": 65,
   "metadata": {},
   "outputs": [],
   "source": [
    "config = \"config.ini\"\n",
    "\n",
    "namespaces = {\n",
    "    \"ex\":  \"http://mine-db.org/\",\n",
    "    }\n",
    "\n",
    "kg = kglab.KnowledgeGraph(\n",
    "    name = \"A KG example with students and sports\",\n",
    "    namespaces = namespaces,\n",
    "    )\n"
   ]
  },
  {
   "cell_type": "code",
   "execution_count": 66,
   "metadata": {},
   "outputs": [
    {
     "name": "stderr",
     "output_type": "stream",
     "text": [
      "INFO | 2023-03-29 11:57:14,790 | Parallelization is not supported for win32 when running as a library. If you need to speed up your data integration pipeline, please run through the command line.\n",
      "INFO | 2023-03-29 11:57:18,070 | 39 mapping rules retrieved.\n",
      "INFO | 2023-03-29 11:57:18,095 | Mapping partition with 27 groups generated.\n",
      "INFO | 2023-03-29 11:57:18,098 | Maximum number of rules within mapping group: 3.\n",
      "INFO | 2023-03-29 11:57:18,101 | Mappings processed in 3.307 seconds.\n",
      "INFO | 2023-03-29 11:57:20,694 | Number of triples generated in total: 171274.\n"
     ]
    },
    {
     "data": {
      "text/plain": [
       "<kglab.kglab.KnowledgeGraph at 0x1db15f4f7f0>"
      ]
     },
     "execution_count": 66,
     "metadata": {},
     "output_type": "execute_result"
    }
   ],
   "source": [
    "kg.materialize(config)"
   ]
  },
  {
   "cell_type": "code",
   "execution_count": 34,
   "metadata": {},
   "outputs": [
    {
     "data": {
      "text/plain": [
       "kglab.kglab.KnowledgeGraph"
      ]
     },
     "execution_count": 34,
     "metadata": {},
     "output_type": "execute_result"
    }
   ],
   "source": [
    "type(kg)"
   ]
  },
  {
   "cell_type": "code",
   "execution_count": 67,
   "metadata": {},
   "outputs": [],
   "source": [
    "kg.save_rdf(\"output/rdf-triples.ttl\")"
   ]
  },
  {
   "cell_type": "code",
   "execution_count": 48,
   "metadata": {},
   "outputs": [
    {
     "name": "stdout",
     "output_type": "stream",
     "text": [
      "(rdflib.term.URIRef('https://schema.org/startDate'), rdflib.term.URIRef('http://example.com/COM00314.00'), rdflib.term.Literal('1963', datatype=rdflib.term.URIRef('http://www.w3.org/2001/XMLSchema#gYear')))\n",
      "(rdflib.term.URIRef('http://www.w3.org/2000/01/rdf-schema#label'), rdflib.term.URIRef('http://www.mine-db.org/Industrial_Development_Corporation_of_South_Africa_Limited'), rdflib.term.Literal('Industrial Development Corporation of South Africa Limited'))\n",
      "(rdflib.term.URIRef('https://www.w3.org/2003/01/geo/wgs84_pos#geometry'), rdflib.term.URIRef('http://example.com/COM01014.00'), rdflib.term.Literal('MULTIPOINT (86.6291681841 53.9453240180897)'))\n",
      "(rdflib.term.URIRef('https://www.w3.org/2003/01/geo/wgs84_pos#geometry'), rdflib.term.URIRef('http://example.com/COM01296.00'), rdflib.term.Literal('MULTIPOINT (124.5402997 -29.2404609)'))\n",
      "(rdflib.term.URIRef('https://schema.org/category'), rdflib.term.URIRef('http://www.mine-db.org/Me.Pb'), rdflib.term.Literal('commodity'))\n",
      "(rdflib.term.URIRef('https://dbpedia.org/ontology/area'), rdflib.term.URIRef('http://example.com/COM00051.00'), rdflib.term.Literal('0.8264501046809886', datatype=rdflib.term.URIRef('http://www.w3.org/2001/XMLSchema#float')))\n",
      "(rdflib.term.URIRef('https://dbpedia.org/ontology/country'), rdflib.term.URIRef('http://example.com/COM01320.00'), rdflib.term.Literal('http://example.com/ZWE'))\n",
      "(rdflib.term.URIRef('http://www.w3.org/2000/01/rdf-schema#label'), rdflib.term.URIRef('http://www.mine-db.org/Me.Y2O3'), rdflib.term.Literal('Yttrium(III) oxide'))\n",
      "(rdflib.term.URIRef('https://schema.org/identifier'), rdflib.term.URIRef('http://example.com/COM01243.00'), rdflib.term.Literal('COM01243.00'))\n",
      "(rdflib.term.URIRef('http://www.w3.org/2000/01/rdf-schema#label'), rdflib.term.URIRef('http://example.com/BWA'), rdflib.term.Literal('Botswana'))\n"
     ]
    }
   ],
   "source": [
    "sparql = \"\"\"\n",
    "\n",
    "SELECT *\n",
    "WHERE {\n",
    " ?p ?s ?o .\n",
    "} LIMIT 10\n",
    "    \"\"\"\n",
    "\n",
    "for row in kg._g.query(sparql):\n",
    "    print(row)\n",
    "    "
   ]
  },
  {
   "cell_type": "code",
   "execution_count": 51,
   "metadata": {},
   "outputs": [],
   "source": [
    "# query some mine with specific label\n",
    "sparql = \"\"\"\n",
    "PREFIX rdfs: <http://www.w3.org/2000/01/rdf-schema#>\n",
    "SELECT ?s\n",
    "WHERE {\n",
    " ?s rdfs:label \"Ahafo\"@en .\n",
    "} LIMIT 10\n",
    "    \"\"\"\n",
    "\n",
    "for row in kg._g.query(sparql):\n",
    "    print(row)"
   ]
  }
 ],
 "metadata": {
  "kernelspec": {
   "display_name": "Python 3",
   "language": "python",
   "name": "python3"
  },
  "language_info": {
   "codemirror_mode": {
    "name": "ipython",
    "version": 3
   },
   "file_extension": ".py",
   "mimetype": "text/x-python",
   "name": "python",
   "nbconvert_exporter": "python",
   "pygments_lexer": "ipython3",
   "version": "3.9.12"
  },
  "orig_nbformat": 4,
  "vscode": {
   "interpreter": {
    "hash": "c1a6836d34ee0eccf8aaed159243ae57ecf207f4df2bb27cc1c54d0cfd1b865e"
   }
  }
 },
 "nbformat": 4,
 "nbformat_minor": 2
}
