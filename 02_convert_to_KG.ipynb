{
 "cells": [
  {
   "attachments": {},
   "cell_type": "markdown",
   "metadata": {},
   "source": [
    "In this notebook, the dataset consisting of mines joined with landuse and polygons are converted to a knowledge graph"
   ]
  },
  {
   "cell_type": "code",
   "execution_count": 1,
   "metadata": {},
   "outputs": [],
   "source": [
    "import kglab\n",
    "import icecream\n",
    "import rdflib\n",
    "from rdflib import Namespace"
   ]
  },
  {
   "cell_type": "code",
   "execution_count": 2,
   "metadata": {},
   "outputs": [],
   "source": [
    "# specif config file and name spaces, build KG\n",
    "\n",
    "config = \"config.ini\"\n",
    "\n",
    "namespaces = {\n",
    "    \"ex\":  \"http://mine-db.org/\",\n",
    "    \"rr\": \"http://www.w3.org/ns/r2rml#\",\n",
    "    \"rml\": \"http://semweb.mmlab.be/ns/rml#\",\n",
    "    \"rdf\": \"http://www.w3.org/1999/02/22-rdf-syntax-ns#\",\n",
    "    \"rdfs\": \"http://www.w3.org/2000/01/rdf-schema#\",\n",
    "    \"ql\": \"http://semweb.mmlab.be/ns/ql#\",\n",
    "    \"map\": \"http://mapping.example.com/\",\n",
    "    \"ma\": \"http://www.w3.org/ns/ma-ont#\",\n",
    "    \"xsd\": \"http://www.w3.org/2001/XMLSchema#\",\n",
    "    \"sd\": \"http://www.w3.org/ns/sparql-service-description#\",\n",
    "    \"schema\": \"https://schema.org/\",\n",
    "    \"mo\": \"http://purl.org/ontology/mo/\",\n",
    "    \"dbo\": \"https://dbpedia.org/ontology/\",\n",
    "    \"dbp\": \"https://dbpedia.org/property/\",\n",
    "    \"dbpage\": \"https://dbpedia.org/page/\",\n",
    "    \"geo\": \"https://www.w3.org/2003/01/geo/wgs84_pos#\"\n",
    "    }\n",
    "\n",
    "kg = kglab.KnowledgeGraph(\n",
    "    name = \"A KG on mining\",\n",
    "    namespaces = namespaces,\n",
    "    )\n"
   ]
  },
  {
   "cell_type": "code",
   "execution_count": 3,
   "metadata": {},
   "outputs": [
    {
     "name": "stderr",
     "output_type": "stream",
     "text": [
      "INFO | 2023-04-03 18:20:59,703 | Parallelization is not supported for win32 when running as a library. If you need to speed up your data integration pipeline, please run through the command line.\n",
      "INFO | 2023-04-03 18:21:11,867 | 40 mapping rules retrieved.\n",
      "INFO | 2023-04-03 18:21:11,909 | Mapping partition with 28 groups generated.\n",
      "INFO | 2023-04-03 18:21:11,912 | Maximum number of rules within mapping group: 3.\n",
      "INFO | 2023-04-03 18:21:11,917 | Mappings processed in 12.200 seconds.\n",
      "INFO | 2023-04-03 18:21:17,075 | Number of triples generated in total: 172390.\n"
     ]
    },
    {
     "data": {
      "text/plain": [
       "<kglab.kglab.KnowledgeGraph at 0x2920cdcf580>"
      ]
     },
     "execution_count": 3,
     "metadata": {},
     "output_type": "execute_result"
    }
   ],
   "source": [
    "# insert all the nodes and edges according to the RML files \n",
    "kg.materialize(config)"
   ]
  },
  {
   "cell_type": "code",
   "execution_count": 4,
   "metadata": {},
   "outputs": [],
   "source": [
    "# kg.get_ns_dict()"
   ]
  },
  {
   "cell_type": "code",
   "execution_count": 5,
   "metadata": {},
   "outputs": [],
   "source": [
    "# to_print = kg.rdf_graph().serialize(format = \"ttl\")[0:5000]\n",
    "# print(to_print)"
   ]
  },
  {
   "cell_type": "code",
   "execution_count": 6,
   "metadata": {},
   "outputs": [],
   "source": [
    "# # override the namespace\n",
    "# kg.add_ns(\"schema\", \"https://schema.org/\", override=True, replace=True)\n",
    "# kg.add_ns(\"dbp\", \"https://dbpedia.org/property/\", override=True, replace=True)\n",
    "# kg.add_ns(\"dbo\", \"https://dbpedia.org/ontology/\", override=True, replace=True)\n",
    "# kg.add_ns(\"ns4\", \"http://www.mine-db.org/\", override=True, replace=True)\n",
    "# kg.add_ns(\"ex\", \"http://www.mine-db.org/\", override=True, replace=True)\n",
    "# kg.add_ns(\"mine\", \"http://www.mine-db.org/\", override=True, replace=True)\n",
    "# kg.add_ns(\"geo\", \"https://www.w3.org/2003/01/geo/wgs84_pos#\", override=True, replace=True)"
   ]
  },
  {
   "cell_type": "code",
   "execution_count": 7,
   "metadata": {},
   "outputs": [],
   "source": [
    "# kg.get_ns_dict()"
   ]
  },
  {
   "cell_type": "code",
   "execution_count": 8,
   "metadata": {},
   "outputs": [],
   "source": [
    "# to_print = kg.rdf_graph().serialize(format = \"ttl\")[0:2500]\n",
    "# print(to_print)"
   ]
  },
  {
   "cell_type": "code",
   "execution_count": 9,
   "metadata": {},
   "outputs": [],
   "source": [
    "kg.save_rdf(\"output/kg_before_linking.ttl\")"
   ]
  },
  {
   "cell_type": "code",
   "execution_count": 16,
   "metadata": {},
   "outputs": [],
   "source": [
    "kg.save_rdf(\"output/kg_before_linking.nt\", format=\"nt\")"
   ]
  },
  {
   "cell_type": "code",
   "execution_count": 10,
   "metadata": {},
   "outputs": [],
   "source": [
    "# # read again with rdflib and change namespace\n",
    "# filename = \"output/kg_before_linking.ttl\"\n",
    "# g = rdflib.Graph()\n",
    "# g.parse(filename, format='ttl')\n",
    "\n",
    "# to_print = g.serialize(format = \"ttl\")[0:2500]\n",
    "# print(to_print)"
   ]
  },
  {
   "cell_type": "code",
   "execution_count": 11,
   "metadata": {},
   "outputs": [],
   "source": [
    "# # get the current namespace manager\n",
    "# ns_mgr = g.namespace_manager\n",
    "\n",
    "# # register the new namespace prefix\n",
    "# ns_mgr.bind(\"ns1\", \"schema\", override=True)\n",
    "# ns_mgr.bind(\"ns2\", \"dbp\", override=True)\n",
    "# ns_mgr.bind(\"ns3\", \"dbo\", override=True)\n",
    "# ns_mgr.bind(\"ns4\", \"ex\", override=True)\n",
    "# ns_mgr.bind(\"ns5\", \"geo\", override=True)"
   ]
  },
  {
   "cell_type": "code",
   "execution_count": 12,
   "metadata": {},
   "outputs": [],
   "source": [
    "# g.serialize(destination = \"output/kg_before_linking_ns_correct.ttl\", format = \"ttl\")"
   ]
  },
  {
   "cell_type": "code",
   "execution_count": 13,
   "metadata": {},
   "outputs": [
    {
     "name": "stdout",
     "output_type": "stream",
     "text": [
      "(rdflib.term.URIRef('http://www.mine-db.org/COM00215.00#2017#F.coc#Clean%20coal'), rdflib.term.Literal('http://www.mine-db.org/COM00215.00'), rdflib.term.URIRef('https://dbpedia.org/property/producedBy'))\n",
      "(rdflib.term.URIRef('http://www.mine-db.org/COM00069.00#2007#O.bulk#Me.Cu'), rdflib.term.Literal('http://www.mine-db.org/COM00069.00'), rdflib.term.URIRef('https://dbpedia.org/property/producedBy'))\n",
      "(rdflib.term.URIRef('http://www.mine-db.org/COM01276.00#2016#Con.Zn#Me.Zn'), rdflib.term.Literal('70000.0', datatype=rdflib.term.URIRef('http://www.w3.org/2001/XMLSchema#float')), rdflib.term.URIRef('https://dbpedia.org/property/quantity'))\n",
      "(rdflib.term.URIRef('http://www.mine-db.org/COM00603.00#2001#O.bulk#Ore%20processed'), rdflib.term.Literal('ed:O.bulk'), rdflib.term.URIRef('https://schema.org/material'))\n",
      "(rdflib.term.URIRef('http://example.com/COM01241.00'), rdflib.term.Literal('Gold'), rdflib.term.URIRef('https://dbpedia.org/property/products'))\n",
      "(rdflib.term.URIRef('http://www.mine-db.org/COM00928.00#2007#O.Cu#Ore%20mined'), rdflib.term.Literal('1842000.0', datatype=rdflib.term.URIRef('http://www.w3.org/2001/XMLSchema#float')), rdflib.term.URIRef('https://dbpedia.org/property/quantity'))\n",
      "(rdflib.term.URIRef('http://www.mine-db.org/COM00607.00#2017#O.Al#Ore%20processed'), rdflib.term.Literal('2017', datatype=rdflib.term.URIRef('http://www.w3.org/2001/XMLSchema#gYear')), rdflib.term.URIRef('https://dbpedia.org/property/year'))\n",
      "(rdflib.term.URIRef('http://www.mine-db.org/COM00782.00#2009#F.stc#Coal%20mined'), rdflib.term.Literal('2009', datatype=rdflib.term.URIRef('http://www.w3.org/2001/XMLSchema#gYear')), rdflib.term.URIRef('https://dbpedia.org/property/year'))\n",
      "(rdflib.term.URIRef('http://www.mine-db.org/COM00561.00#2007#Con.Zn#Concentrate'), rdflib.term.Literal('Concentrate'), rdflib.term.URIRef('https://dbpedia.org/ontology/type'))\n",
      "(rdflib.term.URIRef('http://www.mine-db.org/COM00565.00#2020#F.coal#Coal%20mined'), rdflib.term.Literal('Coal mined'), rdflib.term.URIRef('https://dbpedia.org/ontology/type'))\n"
     ]
    }
   ],
   "source": [
    "sparql = \"\"\"\n",
    "\n",
    "SELECT *\n",
    "WHERE {\n",
    " ?p ?s ?o .\n",
    "} LIMIT 10\n",
    "    \"\"\"\n",
    "\n",
    "for row in kg._g.query(sparql):\n",
    "    print(row)\n",
    "    "
   ]
  },
  {
   "cell_type": "code",
   "execution_count": 14,
   "metadata": {},
   "outputs": [],
   "source": [
    "# query some mine with specific label\n",
    "sparql = \"\"\"\n",
    "PREFIX rdfs: <http://www.w3.org/2000/01/rdf-schema#>\n",
    "SELECT ?s\n",
    "WHERE {\n",
    " ?s rdfs:label \"Ahafo\"@en .\n",
    "} LIMIT 10\n",
    "    \"\"\"\n",
    "\n",
    "for row in kg._g.query(sparql):\n",
    "    print(row)"
   ]
  }
 ],
 "metadata": {
  "kernelspec": {
   "display_name": "base",
   "language": "python",
   "name": "python3"
  },
  "language_info": {
   "codemirror_mode": {
    "name": "ipython",
    "version": 3
   },
   "file_extension": ".py",
   "mimetype": "text/x-python",
   "name": "python",
   "nbconvert_exporter": "python",
   "pygments_lexer": "ipython3",
   "version": "3.8.15"
  },
  "orig_nbformat": 4,
  "vscode": {
   "interpreter": {
    "hash": "fc724f59a171e05a5dc82d36a6cb3a410496cec6883807e37792edd8babbea61"
   }
  }
 },
 "nbformat": 4,
 "nbformat_minor": 2
}
