{
 "cells": [
  {
   "attachments": {},
   "cell_type": "markdown",
   "metadata": {},
   "source": [
    "In this notebook, the dataset consisting of mines joined with landuse and polygons are converted to a knowledge graph"
   ]
  },
  {
   "cell_type": "code",
   "execution_count": 15,
   "metadata": {},
   "outputs": [],
   "source": [
    "import kglab\n",
    "import icecream\n",
    "import rdflib\n",
    "from rdflib import Namespace"
   ]
  },
  {
   "cell_type": "code",
   "execution_count": 2,
   "metadata": {},
   "outputs": [],
   "source": [
    "# specif config file and name spaces, build KG\n",
    "\n",
    "config = \"config.ini\"\n",
    "\n",
    "namespaces = {\n",
    "    \"ex\":  \"http://mine-db.org/\",\n",
    "    \"rr\": \"http://www.w3.org/ns/r2rml#\",\n",
    "    \"rml\": \"http://semweb.mmlab.be/ns/rml#\",\n",
    "    \"rdf\": \"http://www.w3.org/1999/02/22-rdf-syntax-ns#\",\n",
    "    \"rdfs\": \"http://www.w3.org/2000/01/rdf-schema#\",\n",
    "    \"ql\": \"http://semweb.mmlab.be/ns/ql#\",\n",
    "    \"map\": \"http://mapping.example.com/\",\n",
    "    \"ma\": \"http://www.w3.org/ns/ma-ont#\",\n",
    "    \"xsd\": \"http://www.w3.org/2001/XMLSchema#\",\n",
    "    \"sd\": \"http://www.w3.org/ns/sparql-service-description#\",\n",
    "    \"schema\": \"https://schema.org/\",\n",
    "    \"mo\": \"http://purl.org/ontology/mo/\",\n",
    "    \"dbo\": \"https://dbpedia.org/ontology/\",\n",
    "    \"dbp\": \"https://dbpedia.org/property/\",\n",
    "    \"dbpage\": \"https://dbpedia.org/page/\",\n",
    "    \"geo\": \"https://www.w3.org/2003/01/geo/wgs84_pos#\"\n",
    "    }\n",
    "\n",
    "kg = kglab.KnowledgeGraph(\n",
    "    name = \"A KG on mining\",\n",
    "    namespaces = namespaces,\n",
    "    )\n"
   ]
  },
  {
   "cell_type": "code",
   "execution_count": 3,
   "metadata": {},
   "outputs": [
    {
     "name": "stderr",
     "output_type": "stream",
     "text": [
      "INFO | 2023-03-30 14:14:02,135 | Parallelization is not supported for win32 when running as a library. If you need to speed up your data integration pipeline, please run through the command line.\n",
      "INFO | 2023-03-30 14:14:13,488 | 39 mapping rules retrieved.\n",
      "INFO | 2023-03-30 14:14:13,628 | Mapping partition with 27 groups generated.\n",
      "INFO | 2023-03-30 14:14:13,633 | Maximum number of rules within mapping group: 3.\n",
      "INFO | 2023-03-30 14:14:13,643 | Mappings processed in 11.499 seconds.\n",
      "INFO | 2023-03-30 14:14:20,020 | Number of triples generated in total: 171289.\n"
     ]
    },
    {
     "data": {
      "text/plain": [
       "<kglab.kglab.KnowledgeGraph at 0x144af4ca2e0>"
      ]
     },
     "execution_count": 3,
     "metadata": {},
     "output_type": "execute_result"
    }
   ],
   "source": [
    "# insert all the nodes and edges according to the RML files \n",
    "kg.materialize(config)"
   ]
  },
  {
   "cell_type": "code",
   "execution_count": null,
   "metadata": {},
   "outputs": [],
   "source": [
    "# kg.get_ns_dict()"
   ]
  },
  {
   "cell_type": "code",
   "execution_count": null,
   "metadata": {},
   "outputs": [],
   "source": [
    "# to_print = kg.rdf_graph().serialize(format = \"ttl\")[0:5000]\n",
    "# print(to_print)"
   ]
  },
  {
   "cell_type": "code",
   "execution_count": 12,
   "metadata": {},
   "outputs": [],
   "source": [
    "# # override the namespace\n",
    "# kg.add_ns(\"schema\", \"https://schema.org/\", override=True, replace=True)\n",
    "# kg.add_ns(\"dbp\", \"https://dbpedia.org/property/\", override=True, replace=True)\n",
    "# kg.add_ns(\"dbo\", \"https://dbpedia.org/ontology/\", override=True, replace=True)\n",
    "# kg.add_ns(\"ns4\", \"http://www.mine-db.org/\", override=True, replace=True)\n",
    "# kg.add_ns(\"ex\", \"http://www.mine-db.org/\", override=True, replace=True)\n",
    "# kg.add_ns(\"mine\", \"http://www.mine-db.org/\", override=True, replace=True)\n",
    "# kg.add_ns(\"geo\", \"https://www.w3.org/2003/01/geo/wgs84_pos#\", override=True, replace=True)"
   ]
  },
  {
   "cell_type": "code",
   "execution_count": null,
   "metadata": {},
   "outputs": [],
   "source": [
    "# kg.get_ns_dict()"
   ]
  },
  {
   "cell_type": "code",
   "execution_count": null,
   "metadata": {},
   "outputs": [],
   "source": [
    "# to_print = kg.rdf_graph().serialize(format = \"ttl\")[0:2500]\n",
    "# print(to_print)"
   ]
  },
  {
   "cell_type": "code",
   "execution_count": 8,
   "metadata": {},
   "outputs": [],
   "source": [
    "kg.save_rdf(\"output/kg_before_linking.ttl\")"
   ]
  },
  {
   "cell_type": "code",
   "execution_count": 17,
   "metadata": {},
   "outputs": [
    {
     "data": {
      "text/plain": [
       "'@prefix ns1: <https://schema.org/> .\\n@prefix ns2: <https://dbpedia.org/property/> .\\n@prefix ns3: <https://dbpedia.org/ontology/> .\\n@prefix ns4: <http://example.com/> .\\n@prefix ns5: <https://www.w3.org/2003/01/geo/wgs84_pos#> .\\n@prefix rdfs: <http://www.w3.org/2000/01/rdf-schema#> .\\n@prefix xsd: <http://www.w3.org/2001/XMLSchema#> .\\n\\nns4:ABW a ns3:Country,\\n        ns1:Country ;\\n    rdfs:label \"Aruba\" ;\\n    ns3:iso6392Code \"ABW\" .\\n\\nns4:AFG a ns3:Country,\\n        ns1:Country ;\\n    rdfs:label \"Afghanistan\" ;\\n    ns3:iso6392Code \"AFG\" .\\n\\nns4:AGO a ns3:Country,\\n        ns1:Country ;\\n    rdfs:label \"Angola\" ;\\n    ns3:iso6392Code \"AGO\" .\\n\\nns4:AIA a ns3:Country,\\n        ns1:Country ;\\n    rdfs:label \"Anguilla\" ;\\n    ns3:iso6392Code \"AIA\" .\\n\\nns4:ALA a ns3:Country,\\n        ns1:Country ;\\n    rdfs:label \"Åland Islands\" ;\\n    ns3:iso6392Code \"ALA\" .\\n\\nns4:ALB a ns3:Country,\\n        ns1:Country ;\\n    rdfs:label \"Albania\" ;\\n    ns3:iso6392Code \"ALB\" .\\n\\nns4:AND a ns3:Country,\\n        ns1:Country ;\\n    rdfs:label \"Andorra\" ;\\n    ns3:iso6392Code \"AND\" .\\n\\nns4:ARE a ns3:Country,\\n        ns1:Country ;\\n    rdfs:label \"United Arab Emirates\" ;\\n    ns3:iso6392Code \"ARE\" .\\n\\nns4:ARG a ns3:Country,\\n        ns1:Country ;\\n    rdfs:label \"Argentina\" ;\\n    ns3:iso6392Code \"ARG\" .\\n\\nns4:ARM a ns3:Country,\\n        ns1:Country ;\\n    rdfs:label \"Armenia\" ;\\n    ns3:iso6392Code \"ARM\" .\\n\\nns4:ASM a ns3:Country,\\n        ns1:Country ;\\n    rdfs:label \"American Samoa\" ;\\n    ns3:iso6392Code \"ASM\" .\\n\\nns4:ATA a ns3:Country,\\n        ns1:Country ;\\n    rdfs:label \"Antarctica\" ;\\n    ns3:iso6392Code \"ATA\" .\\n\\nns4:ATF a ns3:Country,\\n        ns1:Country ;\\n    rdfs:label \"French Southern Territories\" ;\\n    ns3:iso6392Code \"ATF\" .\\n\\nns4:ATG a ns3:Country,\\n        ns1:Country ;\\n    rdfs:label \"Antigua and Barbuda\" ;\\n    ns3:iso6392Code \"ATG\" .\\n\\nns4:AUS a ns3:Country,\\n        ns1:Country ;\\n    rdfs:label \"Australia\" ;\\n    ns3:iso6392Code \"AUS\" .\\n\\nns4:AUT a ns3:Country,\\n        ns1:Country ;\\n    rdfs:label \"Austria\" ;\\n    ns3:iso6392Code \"AUT\" .\\n\\nns4:AZE a ns3:Country,\\n        ns1:Country ;\\n    rdfs:label \"Azerbaijan\" ;\\n    ns3:iso6392Code \"AZE\" .\\n\\nns4:BDI a ns3:Country,\\n        ns1:Country ;\\n    rdfs:label \"Burundi\" ;\\n    ns3:iso6392Code \"BDI\" .\\n\\nns4:BEL a ns3:Country,\\n        ns1:Country ;\\n    rdfs:label \"Belgium\" ;\\n    ns3:iso6392Code \"BEL\" .\\n\\nns4:BEN a ns3:Country,\\n        ns1:Country ;\\n    rdfs:label \"Benin\" ;\\n    ns3:iso6392Code \"BEN\" .\\n\\nns4:BES a ns3:Country,\\n        ns1:Country ;\\n    rdfs:label \"Bonaire, Sint Eu'"
      ]
     },
     "execution_count": 17,
     "metadata": {},
     "output_type": "execute_result"
    }
   ],
   "source": [
    "# # read again with rdflib and change namespace\n",
    "# filename = \"output/kg_before_linking.ttl\"\n",
    "# g = rdflib.Graph()\n",
    "# g.parse(filename, format='ttl')\n",
    "\n",
    "# to_print = g.serialize(format = \"ttl\")[0:2500]\n",
    "# print(to_print)"
   ]
  },
  {
   "cell_type": "code",
   "execution_count": 22,
   "metadata": {},
   "outputs": [],
   "source": [
    "# # get the current namespace manager\n",
    "# ns_mgr = g.namespace_manager\n",
    "\n",
    "# # register the new namespace prefix\n",
    "# ns_mgr.bind(\"ns1\", \"schema\", override=True)\n",
    "# ns_mgr.bind(\"ns2\", \"dbp\", override=True)\n",
    "# ns_mgr.bind(\"ns3\", \"dbo\", override=True)\n",
    "# ns_mgr.bind(\"ns4\", \"ex\", override=True)\n",
    "# ns_mgr.bind(\"ns5\", \"geo\", override=True)"
   ]
  },
  {
   "cell_type": "code",
   "execution_count": 23,
   "metadata": {},
   "outputs": [
    {
     "data": {
      "text/plain": [
       "<Graph identifier=N93b3931934374c9ab3ea33464ecc7d51 (<class 'rdflib.graph.Graph'>)>"
      ]
     },
     "execution_count": 23,
     "metadata": {},
     "output_type": "execute_result"
    }
   ],
   "source": [
    "# g.serialize(destination = \"output/kg_before_linking_ns_correct.ttl\", format = \"ttl\")"
   ]
  },
  {
   "cell_type": "code",
   "execution_count": 11,
   "metadata": {},
   "outputs": [
    {
     "name": "stdout",
     "output_type": "stream",
     "text": [
      "(rdflib.term.URIRef('http://www.mine-db.org/COM01030.00#2020#F.coal#Coal%20mined'), rdflib.term.Literal('http://www.mine-db.org/F.coal'), rdflib.term.URIRef('https://schema.org/material'))\n",
      "(rdflib.term.URIRef('http://www.mine-db.org/COM01267.00#2007#O.Au#Ore%20mined'), rdflib.term.Literal('http://www.mine-db.org/COM01267.00'), rdflib.term.URIRef('https://dbpedia.org/property/producedBy'))\n",
      "(rdflib.term.URIRef('http://www.mine-db.org/COM00974.00#2010#F.stc#Clean%20coal'), rdflib.term.Literal('17146080.0', datatype=rdflib.term.URIRef('http://www.w3.org/2001/XMLSchema#float')), rdflib.term.URIRef('https://dbpedia.org/property/quantity'))\n",
      "(rdflib.term.URIRef('http://www.mine-db.org/COM00429.00#2012#O.bulk#Me.Ag'), rdflib.term.Literal('http://www.mine-db.org/COM00429.00'), rdflib.term.URIRef('https://dbpedia.org/property/producedBy'))\n",
      "(rdflib.term.URIRef('http://www.mine-db.org/COM00395.00#2012#Con.Cu#Me.Ag'), rdflib.term.Literal('http://www.mine-db.org/COM00395.00'), rdflib.term.URIRef('https://dbpedia.org/property/producedBy'))\n",
      "(rdflib.term.URIRef('http://www.mine-db.org/COM00190.00#2003#O.bulk#Me.Cu'), rdflib.term.Literal('http://www.mine-db.org/O.bulk'), rdflib.term.URIRef('https://dbpedia.org/property/related'))\n",
      "(rdflib.term.URIRef('http://example.com/COM00974.00'), rdflib.term.Literal('Underground'), rdflib.term.URIRef('https://dbpedia.org/property/equipment'))\n",
      "(rdflib.term.URIRef('http://www.mine-db.org/COM00399.00#2009#F.lig#Clean%20coal'), rdflib.term.Literal('2009', datatype=rdflib.term.URIRef('http://www.w3.org/2001/XMLSchema#gYear')), rdflib.term.URIRef('https://dbpedia.org/property/year'))\n",
      "(rdflib.term.URIRef('http://www.mine-db.org/COM00977.00#2015#F.coal#Clean%20coal'), rdflib.term.Literal('800000.0', datatype=rdflib.term.URIRef('http://www.w3.org/2001/XMLSchema#float')), rdflib.term.URIRef('https://dbpedia.org/property/quantity'))\n",
      "(rdflib.term.URIRef('http://www.mine-db.org/COM00808.00#2012#F.coal#Clean%20coal'), rdflib.term.Literal('1166000.0', datatype=rdflib.term.URIRef('http://www.w3.org/2001/XMLSchema#float')), rdflib.term.URIRef('https://dbpedia.org/property/quantity'))\n"
     ]
    }
   ],
   "source": [
    "sparql = \"\"\"\n",
    "\n",
    "SELECT *\n",
    "WHERE {\n",
    " ?p ?s ?o .\n",
    "} LIMIT 10\n",
    "    \"\"\"\n",
    "\n",
    "for row in kg._g.query(sparql):\n",
    "    print(row)\n",
    "    "
   ]
  },
  {
   "cell_type": "code",
   "execution_count": 10,
   "metadata": {},
   "outputs": [],
   "source": [
    "# query some mine with specific label\n",
    "sparql = \"\"\"\n",
    "PREFIX rdfs: <http://www.w3.org/2000/01/rdf-schema#>\n",
    "SELECT ?s\n",
    "WHERE {\n",
    " ?s rdfs:label \"Ahafo\"@en .\n",
    "} LIMIT 10\n",
    "    \"\"\"\n",
    "\n",
    "for row in kg._g.query(sparql):\n",
    "    print(row)"
   ]
  }
 ],
 "metadata": {
  "kernelspec": {
   "display_name": "Python 3",
   "language": "python",
   "name": "python3"
  },
  "language_info": {
   "codemirror_mode": {
    "name": "ipython",
    "version": 3
   },
   "file_extension": ".py",
   "mimetype": "text/x-python",
   "name": "python",
   "nbconvert_exporter": "python",
   "pygments_lexer": "ipython3",
   "version": "3.8.15"
  },
  "orig_nbformat": 4,
  "vscode": {
   "interpreter": {
    "hash": "c1a6836d34ee0eccf8aaed159243ae57ecf207f4df2bb27cc1c54d0cfd1b865e"
   }
  }
 },
 "nbformat": 4,
 "nbformat_minor": 2
}
