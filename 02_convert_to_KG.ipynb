{
 "cells": [
  {
   "attachments": {},
   "cell_type": "markdown",
   "metadata": {},
   "source": [
    "In this notebook, the dataset consisting of mines joined with landuse and polygons are converted to a knowledge graph"
   ]
  },
  {
   "cell_type": "code",
   "execution_count": null,
   "metadata": {},
   "outputs": [],
   "source": []
  }
 ],
 "metadata": {
  "kernelspec": {
   "display_name": "Python 3",
   "language": "python",
   "name": "python3"
  },
  "language_info": {
   "name": "python",
   "version": "3.8.3"
  },
  "orig_nbformat": 4,
  "vscode": {
   "interpreter": {
    "hash": "c1a6836d34ee0eccf8aaed159243ae57ecf207f4df2bb27cc1c54d0cfd1b865e"
   }
  }
 },
 "nbformat": 4,
 "nbformat_minor": 2
}
