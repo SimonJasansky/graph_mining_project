{
 "cells": [
  {
   "attachments": {},
   "cell_type": "markdown",
   "metadata": {},
   "source": [
    "In this notebook, unique entities that should be subjects are extracted from the data\n",
    "Subjects to be extracted: \n",
    "- Countries (exported from pycountry)\n",
    "- Companies\n",
    "- Which companies own the mines \n",
    "- primary Commodities"
   ]
  },
  {
   "cell_type": "code",
   "execution_count": 150,
   "metadata": {},
   "outputs": [],
   "source": [
    "import pandas as pd\n",
    "import geopandas as gpd\n",
    "import pycountry\n",
    "import numpy as np\n",
    "\n",
    "# import data\n",
    "facilities = gpd.read_file(\"data/production/facilities.gpkg\")\n",
    "ownership = pd.read_csv(\"manual_input_data/ownership_cleaned.csv\")"
   ]
  },
  {
   "attachments": {},
   "cell_type": "markdown",
   "metadata": {},
   "source": [
    "## Construct dataframe that links mine to company"
   ]
  },
  {
   "cell_type": "code",
   "execution_count": 151,
   "metadata": {},
   "outputs": [],
   "source": [
    "# split strings by \",\"\n",
    "ownership_df = ownership[\"owners\"].str.split(\",\", expand=True)\n",
    "\n",
    "# combine again with ids and years\n",
    "ownership_df = pd.concat([ownership.loc[:,[\"facility_id\", \"year\"]], ownership_df], axis = 1)\n",
    "\n",
    "# pivot to tidy dataframe\n",
    "ownership_df = pd.melt(ownership_df, id_vars=['facility_id', \"year\"], var_name='owner_nr', value_name='company')\n",
    "\n",
    "# delete rows with NULL values\n",
    "ownership_df = ownership_df[ownership_df.notnull().all(axis=1)]\n",
    "\n",
    "# extract the ownership percentage and delete from old column\n",
    "ownership_df['percentage'] = ownership_df['company'].str.extract(r'\\((.*?)\\)')\n",
    "ownership_df['company'].replace(r'\\((.*?)\\)', \"\", inplace = True, regex = True)\n",
    "ownership_df[\"company\"] = ownership_df[\"company\"].str.strip() # remove leading and trailing spaces\n",
    "\n",
    "# add IRIs\n",
    "ownership_df[\"company_iri\"] = ownership_df[\"company\"].replace(r'[^a-zA-Z\\s]', '', regex = True) # remove all non-letters for iri\n",
    "ownership_df[\"company_iri\"] = ownership_df[\"company_iri\"].str.strip() # remove leading and trailing spaces\n",
    "ownership_df[\"company_iri\"].replace(r'[\\s]', '_', regex = True, inplace = True) #replace spaces with underscores in iri"
   ]
  },
  {
   "attachments": {},
   "cell_type": "markdown",
   "metadata": {},
   "source": [
    "## Construct dataframe with unique companies"
   ]
  },
  {
   "cell_type": "code",
   "execution_count": 152,
   "metadata": {},
   "outputs": [],
   "source": [
    "companies_df = ownership_df.loc[:,[\"company\", \"company_iri\"]].drop_duplicates()"
   ]
  },
  {
   "attachments": {},
   "cell_type": "markdown",
   "metadata": {},
   "source": [
    "## Construct dataframe with operators"
   ]
  },
  {
   "cell_type": "code",
   "execution_count": 153,
   "metadata": {},
   "outputs": [],
   "source": [
    "# tbd"
   ]
  },
  {
   "attachments": {},
   "cell_type": "markdown",
   "metadata": {},
   "source": [
    "## Construct dataframe with all countries"
   ]
  },
  {
   "cell_type": "code",
   "execution_count": 154,
   "metadata": {},
   "outputs": [],
   "source": [
    "country_alpha_3 = []\n",
    "country_name = []\n",
    "for country in list(pycountry.countries):\n",
    "    country_alpha_3.append(country.alpha_3)\n",
    "    country_name.append(country.name)\n",
    "\n",
    "countries_df = pd.DataFrame({\"country_alpha_3\":  country_alpha_3, \"country_name\":  country_name})"
   ]
  },
  {
   "attachments": {},
   "cell_type": "markdown",
   "metadata": {},
   "source": [
    "## Export data"
   ]
  },
  {
   "cell_type": "code",
   "execution_count": 155,
   "metadata": {},
   "outputs": [],
   "source": [
    "import os\n",
    "\n",
    "# create the intermediate directory if it does not exist\n",
    "path = \"./intermediate\"\n",
    "isExist = os.path.exists(path)\n",
    "if not isExist:\n",
    "    os.makedirs(path)\n",
    "    print(\"The new directory is created!\")\n",
    "\n",
    "pd.DataFrame(companies_df).to_csv(\"intermediate/companies.csv\", index = False)\n",
    "pd.DataFrame(countries_df).to_csv(\"intermediate/countries.csv\", index = False)\n",
    "pd.DataFrame(ownership_df).to_csv(\"intermediate/ownership.csv\", index = False)"
   ]
  }
 ],
 "metadata": {
  "kernelspec": {
   "display_name": "base",
   "language": "python",
   "name": "python3"
  },
  "language_info": {
   "codemirror_mode": {
    "name": "ipython",
    "version": 3
   },
   "file_extension": ".py",
   "mimetype": "text/x-python",
   "name": "python",
   "nbconvert_exporter": "python",
   "pygments_lexer": "ipython3",
   "version": "3.8.16"
  },
  "orig_nbformat": 4
 },
 "nbformat": 4,
 "nbformat_minor": 2
}
