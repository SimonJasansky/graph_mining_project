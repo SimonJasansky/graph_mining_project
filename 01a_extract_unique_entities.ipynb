{
 "cells": [
  {
   "attachments": {},
   "cell_type": "markdown",
   "metadata": {},
   "source": [
    "In this notebook, unique entities that should be subjects are extracted from the data\n",
    "Subjects to be extracted: \n",
    "- Countries (exported from pycountry)\n",
    "- Companies\n",
    "- Which companies own the mines \n",
    "- primary Commodities"
   ]
  },
  {
   "cell_type": "code",
   "execution_count": 24,
   "metadata": {},
   "outputs": [],
   "source": [
    "import pandas as pd\n",
    "import geopandas as gpd\n",
    "import pycountry\n",
    "import numpy as np\n",
    "\n",
    "# import data\n",
    "facilities = gpd.read_file(\"data/production/facilities.gpkg\")\n",
    "ownership = pd.read_csv(\"manual_input_data/ownership_cleaned.csv\")"
   ]
  },
  {
   "attachments": {},
   "cell_type": "markdown",
   "metadata": {},
   "source": [
    "## Construct dataframe that links mine to company"
   ]
  },
  {
   "cell_type": "code",
   "execution_count": 25,
   "metadata": {},
   "outputs": [],
   "source": [
    "# split strings by \",\"\n",
    "ownership_df = ownership[\"owners\"].str.split(\",\", expand=True)\n",
    "\n",
    "# combine again with ids and years\n",
    "ownership_df = pd.concat([ownership.loc[:,[\"facility_id\", \"year\"]], ownership_df], axis = 1)\n",
    "\n",
    "# pivot to tidy dataframe\n",
    "ownership_df = pd.melt(ownership_df, id_vars=['facility_id', \"year\"], var_name='owner_nr', value_name='company')\n",
    "\n",
    "# delete rows with NULL values\n",
    "ownership_df = ownership_df[ownership_df.notnull().all(axis=1)]\n",
    "\n",
    "# extract the ownership percentage and delete from old column\n",
    "ownership_df['percentage'] = ownership_df['company'].str.extract(r'\\((.*?)\\)')\n",
    "ownership_df['company'].replace(r'\\((.*?)\\)', \"\", inplace = True, regex = True)\n",
    "ownership_df[\"company\"] = ownership_df[\"company\"].str.strip() # remove leading and trailing spaces\n",
    "\n",
    "# add IRIs\n",
    "ownership_df[\"company_iri\"] = ownership_df[\"company\"].replace(r'[^a-zA-Z\\s]', '', regex = True) # remove all non-letters for iri\n",
    "ownership_df[\"company_iri\"] = ownership_df[\"company_iri\"].str.strip() # remove leading and trailing spaces\n",
    "ownership_df[\"company_iri\"].replace(r'[\\s]', '_', regex = True, inplace = True) #replace spaces with underscores in iri"
   ]
  },
  {
   "cell_type": "code",
   "execution_count": 26,
   "metadata": {},
   "outputs": [
    {
     "data": {
      "text/html": [
       "<div>\n",
       "<style scoped>\n",
       "    .dataframe tbody tr th:only-of-type {\n",
       "        vertical-align: middle;\n",
       "    }\n",
       "\n",
       "    .dataframe tbody tr th {\n",
       "        vertical-align: top;\n",
       "    }\n",
       "\n",
       "    .dataframe thead th {\n",
       "        text-align: right;\n",
       "    }\n",
       "</style>\n",
       "<table border=\"1\" class=\"dataframe\">\n",
       "  <thead>\n",
       "    <tr style=\"text-align: right;\">\n",
       "      <th></th>\n",
       "      <th>facility_id</th>\n",
       "      <th>year</th>\n",
       "      <th>owner_nr</th>\n",
       "      <th>company</th>\n",
       "      <th>percentage</th>\n",
       "      <th>company_iri</th>\n",
       "    </tr>\n",
       "  </thead>\n",
       "  <tbody>\n",
       "    <tr>\n",
       "      <th>0</th>\n",
       "      <td>COM00001.00</td>\n",
       "      <td>2018</td>\n",
       "      <td>0</td>\n",
       "      <td>Hudbay Minerals Inc</td>\n",
       "      <td>100%</td>\n",
       "      <td>Hudbay_Minerals_Inc</td>\n",
       "    </tr>\n",
       "    <tr>\n",
       "      <th>1</th>\n",
       "      <td>COM00005.00</td>\n",
       "      <td>2019</td>\n",
       "      <td>0</td>\n",
       "      <td>Rusal Plc.</td>\n",
       "      <td>100%</td>\n",
       "      <td>Rusal_Plc</td>\n",
       "    </tr>\n",
       "    <tr>\n",
       "      <th>2</th>\n",
       "      <td>COM00006.00</td>\n",
       "      <td>2019</td>\n",
       "      <td>0</td>\n",
       "      <td>ArcelorMittal S.A.</td>\n",
       "      <td>100%</td>\n",
       "      <td>ArcelorMittal_SA</td>\n",
       "    </tr>\n",
       "    <tr>\n",
       "      <th>3</th>\n",
       "      <td>COM00007.00</td>\n",
       "      <td>2018</td>\n",
       "      <td>0</td>\n",
       "      <td>AngloGold Ashanti</td>\n",
       "      <td>100%</td>\n",
       "      <td>AngloGold_Ashanti</td>\n",
       "    </tr>\n",
       "    <tr>\n",
       "      <th>4</th>\n",
       "      <td>COM00009.00</td>\n",
       "      <td>2017</td>\n",
       "      <td>0</td>\n",
       "      <td>Newmont Mining Corporation</td>\n",
       "      <td>100%</td>\n",
       "      <td>Newmont_Mining_Corporation</td>\n",
       "    </tr>\n",
       "    <tr>\n",
       "      <th>...</th>\n",
       "      <td>...</td>\n",
       "      <td>...</td>\n",
       "      <td>...</td>\n",
       "      <td>...</td>\n",
       "      <td>...</td>\n",
       "      <td>...</td>\n",
       "    </tr>\n",
       "    <tr>\n",
       "      <th>2277</th>\n",
       "      <td>COM00397.00</td>\n",
       "      <td>2018</td>\n",
       "      <td>3</td>\n",
       "      <td>JX Nippon Mining and Metals</td>\n",
       "      <td>10%</td>\n",
       "      <td>JX_Nippon_Mining_and_Metals</td>\n",
       "    </tr>\n",
       "    <tr>\n",
       "      <th>2496</th>\n",
       "      <td>COM00840.00</td>\n",
       "      <td>2019</td>\n",
       "      <td>3</td>\n",
       "      <td>SMM Morenci Inc.</td>\n",
       "      <td>13%</td>\n",
       "      <td>SMM_Morenci_Inc</td>\n",
       "    </tr>\n",
       "    <tr>\n",
       "      <th>2523</th>\n",
       "      <td>COM00885.00</td>\n",
       "      <td>2020</td>\n",
       "      <td>3</td>\n",
       "      <td>Daewoo International Corporation and  Korea Re...</td>\n",
       "      <td>7.5%</td>\n",
       "      <td>Daewoo_International_Corporation_and__Korea_Re...</td>\n",
       "    </tr>\n",
       "    <tr>\n",
       "      <th>2579</th>\n",
       "      <td>COM01010.00</td>\n",
       "      <td>2019</td>\n",
       "      <td>3</td>\n",
       "      <td>POS-Ore</td>\n",
       "      <td>20%</td>\n",
       "      <td>POSOre</td>\n",
       "    </tr>\n",
       "    <tr>\n",
       "      <th>2972</th>\n",
       "      <td>COM00397.00</td>\n",
       "      <td>2018</td>\n",
       "      <td>4</td>\n",
       "      <td>JECO2 Ltd</td>\n",
       "      <td>2.5%</td>\n",
       "      <td>JECO_Ltd</td>\n",
       "    </tr>\n",
       "  </tbody>\n",
       "</table>\n",
       "<p>819 rows × 6 columns</p>\n",
       "</div>"
      ],
      "text/plain": [
       "      facility_id  year owner_nr  \\\n",
       "0     COM00001.00  2018        0   \n",
       "1     COM00005.00  2019        0   \n",
       "2     COM00006.00  2019        0   \n",
       "3     COM00007.00  2018        0   \n",
       "4     COM00009.00  2017        0   \n",
       "...           ...   ...      ...   \n",
       "2277  COM00397.00  2018        3   \n",
       "2496  COM00840.00  2019        3   \n",
       "2523  COM00885.00  2020        3   \n",
       "2579  COM01010.00  2019        3   \n",
       "2972  COM00397.00  2018        4   \n",
       "\n",
       "                                                company percentage  \\\n",
       "0                                   Hudbay Minerals Inc       100%   \n",
       "1                                            Rusal Plc.       100%   \n",
       "2                                    ArcelorMittal S.A.       100%   \n",
       "3                                     AngloGold Ashanti       100%   \n",
       "4                            Newmont Mining Corporation       100%   \n",
       "...                                                 ...        ...   \n",
       "2277                        JX Nippon Mining and Metals        10%   \n",
       "2496                                   SMM Morenci Inc.        13%   \n",
       "2523  Daewoo International Corporation and  Korea Re...       7.5%   \n",
       "2579                                            POS-Ore        20%   \n",
       "2972                                          JECO2 Ltd       2.5%   \n",
       "\n",
       "                                            company_iri  \n",
       "0                                   Hudbay_Minerals_Inc  \n",
       "1                                             Rusal_Plc  \n",
       "2                                      ArcelorMittal_SA  \n",
       "3                                     AngloGold_Ashanti  \n",
       "4                            Newmont_Mining_Corporation  \n",
       "...                                                 ...  \n",
       "2277                        JX_Nippon_Mining_and_Metals  \n",
       "2496                                    SMM_Morenci_Inc  \n",
       "2523  Daewoo_International_Corporation_and__Korea_Re...  \n",
       "2579                                             POSOre  \n",
       "2972                                           JECO_Ltd  \n",
       "\n",
       "[819 rows x 6 columns]"
      ]
     },
     "execution_count": 26,
     "metadata": {},
     "output_type": "execute_result"
    }
   ],
   "source": [
    "ownership_df"
   ]
  },
  {
   "cell_type": "code",
   "execution_count": 27,
   "metadata": {},
   "outputs": [
    {
     "name": "stdout",
     "output_type": "stream",
     "text": [
      "819\n"
     ]
    },
    {
     "data": {
      "text/plain": [
       "788"
      ]
     },
     "execution_count": 27,
     "metadata": {},
     "output_type": "execute_result"
    }
   ],
   "source": [
    "# get only the most recent owners \n",
    "idx = ownership_df.groupby(\"facility_id\")[\"year\"].transform(max) == ownership_df[\"year\"]\n",
    "print(len(ownership_df))\n",
    "len(ownership_df[idx])"
   ]
  },
  {
   "cell_type": "code",
   "execution_count": 28,
   "metadata": {},
   "outputs": [],
   "source": [
    "# Tests:\n",
    "# this company has ownership values for multiple years, so only the most recent one should be displayed (only one row)\n",
    "assert len(ownership_df[idx][ownership_df[idx][\"facility_id\"] == \"COM00400.00\"]) == 1\n",
    "\n",
    "# this company has multiple ownership values for one year, so all of them should be displayed\n",
    "assert len(ownership_df[idx][ownership_df[idx][\"facility_id\"] == \"COM00048.00\"]) > 1\n",
    "\n",
    "# display(ownership_df[idx][ownership_df[idx][\"facility_id\"] == \"COM00400.00\"])\n",
    "# display(ownership_df[idx][ownership_df[idx][\"facility_id\"] == \"COM00048.00\"])"
   ]
  },
  {
   "attachments": {},
   "cell_type": "markdown",
   "metadata": {},
   "source": [
    "## Construct dataframe with unique companies"
   ]
  },
  {
   "cell_type": "code",
   "execution_count": 29,
   "metadata": {},
   "outputs": [],
   "source": [
    "companies_df = ownership_df.loc[:,[\"company\", \"company_iri\"]].drop_duplicates()"
   ]
  },
  {
   "attachments": {},
   "cell_type": "markdown",
   "metadata": {},
   "source": [
    "## Construct dataframe with operators"
   ]
  },
  {
   "cell_type": "code",
   "execution_count": 30,
   "metadata": {},
   "outputs": [],
   "source": [
    "# tbd"
   ]
  },
  {
   "attachments": {},
   "cell_type": "markdown",
   "metadata": {},
   "source": [
    "## Construct dataframe with all countries"
   ]
  },
  {
   "cell_type": "code",
   "execution_count": 31,
   "metadata": {},
   "outputs": [],
   "source": [
    "country_alpha_3 = []\n",
    "country_name = []\n",
    "for country in list(pycountry.countries):\n",
    "    country_alpha_3.append(country.alpha_3)\n",
    "    country_name.append(country.name)\n",
    "\n",
    "countries_df = pd.DataFrame({\"country_alpha_3\":  country_alpha_3, \"country_name\":  country_name})"
   ]
  },
  {
   "attachments": {},
   "cell_type": "markdown",
   "metadata": {},
   "source": [
    "## Export data"
   ]
  },
  {
   "cell_type": "code",
   "execution_count": 32,
   "metadata": {},
   "outputs": [],
   "source": [
    "import os\n",
    "\n",
    "# create the intermediate directory if it does not exist\n",
    "path = \"./intermediate\"\n",
    "isExist = os.path.exists(path)\n",
    "if not isExist:\n",
    "    os.makedirs(path)\n",
    "    print(\"The new directory is created!\")\n",
    "\n",
    "pd.DataFrame(companies_df).to_csv(\"intermediate/companies.csv\", index = False)\n",
    "pd.DataFrame(countries_df).to_csv(\"intermediate/countries.csv\", index = False)\n",
    "pd.DataFrame(ownership_df).to_csv(\"intermediate/ownership.csv\", index = False)"
   ]
  }
 ],
 "metadata": {
  "kernelspec": {
   "display_name": "base",
   "language": "python",
   "name": "python3"
  },
  "language_info": {
   "codemirror_mode": {
    "name": "ipython",
    "version": 3
   },
   "file_extension": ".py",
   "mimetype": "text/x-python",
   "name": "python",
   "nbconvert_exporter": "python",
   "pygments_lexer": "ipython3",
   "version": "3.8.16"
  },
  "orig_nbformat": 4
 },
 "nbformat": 4,
 "nbformat_minor": 2
}
