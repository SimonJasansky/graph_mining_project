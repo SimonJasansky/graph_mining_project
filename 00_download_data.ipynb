{
 "cells": [
  {
   "attachments": {},
   "cell_type": "markdown",
   "metadata": {},
   "source": [
    "# set up folder structure and download data"
   ]
  },
  {
   "cell_type": "code",
   "execution_count": 1,
   "metadata": {},
   "outputs": [
    {
     "name": "stdout",
     "output_type": "stream",
     "text": [
      "The new directory is created!\n"
     ]
    }
   ],
   "source": [
    "# create directories if not existant\n",
    "import os\n",
    "\n",
    "paths = [\"./data\", \"./data/production\", \"./data/polygons\"]\n",
    "for path in paths:\n",
    "    isExist = os.path.exists(path)\n",
    "    if not isExist:\n",
    "        os.makedirs(path)\n",
    "        print(\"The new directory is created!\")"
   ]
  },
  {
   "cell_type": "code",
   "execution_count": 2,
   "metadata": {},
   "outputs": [
    {
     "data": {
      "text/plain": [
       "('./data/polygons/polygons.gpkg', <http.client.HTTPMessage at 0x20dde9f3550>)"
      ]
     },
     "execution_count": 2,
     "metadata": {},
     "output_type": "execute_result"
    }
   ],
   "source": [
    "# download data\n",
    "import urllib.request\n",
    "\n",
    "production_url = \"https://zenodo.org/record/7369478/files/open_database_mine_production.zip?download=1\"\n",
    "polygons_url = \"https://download.pangaea.de/dataset/942325/files/global_mining_polygons_v2.gpkg\"\n",
    "urllib.request.urlretrieve(production_url, paths[1] + \"/production.zip\")\n",
    "urllib.request.urlretrieve(polygons_url, paths[2] + \"/polygons.gpkg\")"
   ]
  },
  {
   "cell_type": "code",
   "execution_count": 7,
   "metadata": {},
   "outputs": [],
   "source": [
    "# unzip data \n",
    "import zipfile\n",
    "\n",
    "with zipfile.ZipFile(paths[1] + \"/production.zip\", 'r') as zip_ref:\n",
    "    zip_ref.extractall(paths[1] + \"/\")"
   ]
  },
  {
   "cell_type": "code",
   "execution_count": 3,
   "metadata": {},
   "outputs": [
    {
     "ename": "FileNotFoundError",
     "evalue": "[WinError 3] Das System kann den angegebenen Pfad nicht finden: './data/production/data'",
     "output_type": "error",
     "traceback": [
      "\u001b[1;31m---------------------------------------------------------------------------\u001b[0m",
      "\u001b[1;31mFileNotFoundError\u001b[0m                         Traceback (most recent call last)",
      "Cell \u001b[1;32mIn[3], line 9\u001b[0m\n\u001b[0;32m      6\u001b[0m destination \u001b[39m=\u001b[39m paths[\u001b[39m1\u001b[39m] \u001b[39m+\u001b[39m \u001b[39m\"\u001b[39m\u001b[39m/\u001b[39m\u001b[39m\"\u001b[39m\n\u001b[0;32m      8\u001b[0m \u001b[39m# code to move the files from sub-folder to main folder.\u001b[39;00m\n\u001b[1;32m----> 9\u001b[0m files \u001b[39m=\u001b[39m os\u001b[39m.\u001b[39;49mlistdir(source)\n\u001b[0;32m     10\u001b[0m \u001b[39mfor\u001b[39;00m file \u001b[39min\u001b[39;00m files:\n\u001b[0;32m     11\u001b[0m     file_name \u001b[39m=\u001b[39m os\u001b[39m.\u001b[39mpath\u001b[39m.\u001b[39mjoin(source, file)\n",
      "\u001b[1;31mFileNotFoundError\u001b[0m: [WinError 3] Das System kann den angegebenen Pfad nicht finden: './data/production/data'"
     ]
    }
   ],
   "source": [
    "# move files\n",
    "import shutil\n",
    "  \n",
    "# Define the source and destination path\n",
    "source = paths[1] + \"/data\"\n",
    "destination = paths[1] + \"/\"\n",
    "\n",
    "# code to move the files from sub-folder to main folder.\n",
    "files = os.listdir(source)\n",
    "for file in files:\n",
    "    file_name = os.path.join(source, file)\n",
    "    shutil.move(file_name, destination)\n",
    "os.rmdir(source)"
   ]
  }
 ],
 "metadata": {
  "kernelspec": {
   "display_name": "base",
   "language": "python",
   "name": "python3"
  },
  "language_info": {
   "codemirror_mode": {
    "name": "ipython",
    "version": 3
   },
   "file_extension": ".py",
   "mimetype": "text/x-python",
   "name": "python",
   "nbconvert_exporter": "python",
   "pygments_lexer": "ipython3",
   "version": "3.8.15"
  },
  "orig_nbformat": 4,
  "vscode": {
   "interpreter": {
    "hash": "fc724f59a171e05a5dc82d36a6cb3a410496cec6883807e37792edd8babbea61"
   }
  }
 },
 "nbformat": 4,
 "nbformat_minor": 2
}
