{
 "cells": [
  {
   "attachments": {},
   "cell_type": "markdown",
   "metadata": {},
   "source": [
    "# set up folder structure and download data"
   ]
  },
  {
   "cell_type": "code",
   "execution_count": 12,
   "metadata": {},
   "outputs": [],
   "source": [
    "# create directories if not existant\n",
    "import os\n",
    "\n",
    "paths = [\"./data\", \"./data/production\", \"./data/landuse\"]\n",
    "for path in paths:\n",
    "    isExist = os.path.exists(path)\n",
    "    if not isExist:\n",
    "        os.makedirs(path)\n",
    "        print(\"The new directory is created!\")"
   ]
  },
  {
   "cell_type": "code",
   "execution_count": 21,
   "metadata": {},
   "outputs": [
    {
     "data": {
      "text/plain": [
       "('./data/landuse/landuse.gpkg', <http.client.HTTPMessage at 0x1e8718c5520>)"
      ]
     },
     "execution_count": 21,
     "metadata": {},
     "output_type": "execute_result"
    }
   ],
   "source": [
    "# download data\n",
    "import urllib.request\n",
    "\n",
    "production_url = \"https://zenodo.org/record/7369478/files/open_database_mine_production.zip?download=1\"\n",
    "landuse_url = \"https://download.pangaea.de/dataset/942325/files/global_mining_polygons_v2.gpkg\"\n",
    "urllib.request.urlretrieve(production_url, paths[1] + \"/production.zip\")\n",
    "urllib.request.urlretrieve(landuse_url, paths[2] + \"/landuse.gpkg\")"
   ]
  },
  {
   "cell_type": "code",
   "execution_count": 23,
   "metadata": {},
   "outputs": [
    {
     "name": "stdout",
     "output_type": "stream",
     "text": [
      "./data/production\n"
     ]
    }
   ],
   "source": [
    "# unzip data \n",
    "import zipfile\n",
    "\n",
    "with zipfile.ZipFile(paths[1] + \"/production.zip\", 'r') as zip_ref:\n",
    "    zip_ref.extractall(paths[1] + \"/\")"
   ]
  },
  {
   "cell_type": "code",
   "execution_count": 24,
   "metadata": {},
   "outputs": [
    {
     "name": "stdout",
     "output_type": "stream",
     "text": [
      "Files Moved\n"
     ]
    }
   ],
   "source": [
    "# move files\n",
    "import shutil\n",
    "  \n",
    "# Define the source and destination path\n",
    "source = paths[1] + \"/data\"\n",
    "destination = paths[1] + \"/\"\n",
    "\n",
    "# code to move the files from sub-folder to main folder.\n",
    "files = os.listdir(source)\n",
    "for file in files:\n",
    "    file_name = os.path.join(source, file)\n",
    "    shutil.move(file_name, destination)\n",
    "os.rmdir(source)"
   ]
  }
 ],
 "metadata": {
  "kernelspec": {
   "display_name": "base",
   "language": "python",
   "name": "python3"
  },
  "language_info": {
   "codemirror_mode": {
    "name": "ipython",
    "version": 3
   },
   "file_extension": ".py",
   "mimetype": "text/x-python",
   "name": "python",
   "nbconvert_exporter": "python",
   "pygments_lexer": "ipython3",
   "version": "3.8.15"
  },
  "orig_nbformat": 4,
  "vscode": {
   "interpreter": {
    "hash": "fc724f59a171e05a5dc82d36a6cb3a410496cec6883807e37792edd8babbea61"
   }
  }
 },
 "nbformat": 4,
 "nbformat_minor": 2
}
